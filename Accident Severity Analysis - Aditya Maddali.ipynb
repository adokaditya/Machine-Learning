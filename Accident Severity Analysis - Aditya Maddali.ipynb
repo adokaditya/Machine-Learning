{
 "cells": [
  {
   "cell_type": "markdown",
   "metadata": {},
   "source": [
    "# Accident Severity Analysis"
   ]
  },
  {
   "cell_type": "markdown",
   "metadata": {},
   "source": [
    "### by Aditya Maddali"
   ]
  },
  {
   "cell_type": "markdown",
   "metadata": {},
   "source": [
    "## Table of contents\n",
    "* [Introduction](#introduction)\n",
    "* [Exploratory Data Analysis](#data)\n",
    "* [Results](#results)\n",
    "* [Hypothesis Testing](#hypothesis)\n",
    "* [Conclusion](#conclusion)"
   ]
  },
  {
   "cell_type": "markdown",
   "metadata": {},
   "source": [
    "## Introduction <a name=\"introduction\"></a>"
   ]
  },
  {
   "cell_type": "markdown",
   "metadata": {},
   "source": [
    "The objective of this exploratory data analysis project is to evaluate the severity and frequency of accidents in the Seattle area based on multiple factors like environment and driver condition. The analysis is based on accident data from 2003 to Dec-2020 provided by Seattle Police Department and Seattle Department of Transportation (SDOT). \n",
    "The dataset has 223,304 entries of accidents each with 40 attributes. SDOT also provided the metadata to understand the attributes. These attributes include various accident information such as: environmental conditions, SDOT codes, location, date and time etc.\n",
    "The results will be of interest to law enforcement, emergency response services and other agencies that are interested in understanding the role of below mentioned factors on accident severity. Armed with this understanding, these agencies can perform two functions:\n",
    "\n",
    "1.\tMitigate accident severity by reducing the impact and/or probability of contributing factors \n",
    "2.\tProvide better timely response to accidents by understanding risk prone areas.\n",
    "\n",
    "The factors that will the severity and frequency of accidents can be broadly classified into two categories:\n",
    "1. External Factors\n",
    "External Factors are environmental conditions in which the accident takes place. These are: location, light conditions, road conditions, weather conditions etc.\n",
    "2. Internal Factors\n",
    "Internal Factors are a sum total of the state of the driver when the accident took place. That is, if the driver was attentive or if the driver was under the influence of substances etc.\n"
   ]
  },
  {
   "cell_type": "markdown",
   "metadata": {},
   "source": [
    "## Exploratory Data Analysis<a name=\"data\"></a>"
   ]
  },
  {
   "cell_type": "code",
   "execution_count": 1,
   "metadata": {
    "scrolled": false
   },
   "outputs": [],
   "source": [
    "import pandas as pd\n",
    "import matplotlib.pyplot as plt\n",
    "import seaborn as sns\n",
    "import numpy as np"
   ]
  },
  {
   "cell_type": "code",
   "execution_count": 2,
   "metadata": {},
   "outputs": [],
   "source": [
    "df=pd.read_csv('Collisions.csv')"
   ]
  },
  {
   "cell_type": "code",
   "execution_count": 3,
   "metadata": {},
   "outputs": [
    {
     "name": "stdout",
     "output_type": "stream",
     "text": [
      "(223304, 40)\n"
     ]
    },
    {
     "data": {
      "text/html": [
       "<div>\n",
       "<style scoped>\n",
       "    .dataframe tbody tr th:only-of-type {\n",
       "        vertical-align: middle;\n",
       "    }\n",
       "\n",
       "    .dataframe tbody tr th {\n",
       "        vertical-align: top;\n",
       "    }\n",
       "\n",
       "    .dataframe thead th {\n",
       "        text-align: right;\n",
       "    }\n",
       "</style>\n",
       "<table border=\"1\" class=\"dataframe\">\n",
       "  <thead>\n",
       "    <tr style=\"text-align: right;\">\n",
       "      <th></th>\n",
       "      <th>X</th>\n",
       "      <th>Y</th>\n",
       "      <th>OBJECTID</th>\n",
       "      <th>INCKEY</th>\n",
       "      <th>COLDETKEY</th>\n",
       "      <th>REPORTNO</th>\n",
       "      <th>STATUS</th>\n",
       "      <th>ADDRTYPE</th>\n",
       "      <th>INTKEY</th>\n",
       "      <th>LOCATION</th>\n",
       "      <th>...</th>\n",
       "      <th>ROADCOND</th>\n",
       "      <th>LIGHTCOND</th>\n",
       "      <th>PEDROWNOTGRNT</th>\n",
       "      <th>SDOTCOLNUM</th>\n",
       "      <th>SPEEDING</th>\n",
       "      <th>ST_COLCODE</th>\n",
       "      <th>ST_COLDESC</th>\n",
       "      <th>SEGLANEKEY</th>\n",
       "      <th>CROSSWALKKEY</th>\n",
       "      <th>HITPARKEDCAR</th>\n",
       "    </tr>\n",
       "  </thead>\n",
       "  <tbody>\n",
       "    <tr>\n",
       "      <th>0</th>\n",
       "      <td>-122.302136</td>\n",
       "      <td>47.558499</td>\n",
       "      <td>1</td>\n",
       "      <td>51600</td>\n",
       "      <td>51600</td>\n",
       "      <td>2059498</td>\n",
       "      <td>Matched</td>\n",
       "      <td>Block</td>\n",
       "      <td>NaN</td>\n",
       "      <td>S FERDINAND ST BETWEEN 24TH AVE S AND 24TH PL S</td>\n",
       "      <td>...</td>\n",
       "      <td>Wet</td>\n",
       "      <td>Daylight</td>\n",
       "      <td>NaN</td>\n",
       "      <td>6148025.0</td>\n",
       "      <td>NaN</td>\n",
       "      <td>32</td>\n",
       "      <td>One parked--one moving</td>\n",
       "      <td>0</td>\n",
       "      <td>0</td>\n",
       "      <td>N</td>\n",
       "    </tr>\n",
       "    <tr>\n",
       "      <th>1</th>\n",
       "      <td>-122.360753</td>\n",
       "      <td>47.703668</td>\n",
       "      <td>2</td>\n",
       "      <td>1293</td>\n",
       "      <td>1293</td>\n",
       "      <td>3501623</td>\n",
       "      <td>Matched</td>\n",
       "      <td>Intersection</td>\n",
       "      <td>37108.0</td>\n",
       "      <td>3RD AVE NW AND NW 103RD N ST</td>\n",
       "      <td>...</td>\n",
       "      <td>Dry</td>\n",
       "      <td>Dark - Street Lights On</td>\n",
       "      <td>NaN</td>\n",
       "      <td>NaN</td>\n",
       "      <td>NaN</td>\n",
       "      <td>50</td>\n",
       "      <td>Fixed object</td>\n",
       "      <td>0</td>\n",
       "      <td>0</td>\n",
       "      <td>N</td>\n",
       "    </tr>\n",
       "    <tr>\n",
       "      <th>2</th>\n",
       "      <td>-122.318887</td>\n",
       "      <td>47.619922</td>\n",
       "      <td>3</td>\n",
       "      <td>331092</td>\n",
       "      <td>332592</td>\n",
       "      <td>3847739</td>\n",
       "      <td>Matched</td>\n",
       "      <td>Block</td>\n",
       "      <td>NaN</td>\n",
       "      <td>E JOHN ST BETWEEN 10TH AVE E AND 11TH AVE E</td>\n",
       "      <td>...</td>\n",
       "      <td>Wet</td>\n",
       "      <td>Dark - Street Lights On</td>\n",
       "      <td>NaN</td>\n",
       "      <td>NaN</td>\n",
       "      <td>NaN</td>\n",
       "      <td>10</td>\n",
       "      <td>Entering at angle</td>\n",
       "      <td>0</td>\n",
       "      <td>0</td>\n",
       "      <td>N</td>\n",
       "    </tr>\n",
       "    <tr>\n",
       "      <th>3</th>\n",
       "      <td>-122.269598</td>\n",
       "      <td>47.677571</td>\n",
       "      <td>4</td>\n",
       "      <td>336037</td>\n",
       "      <td>337537</td>\n",
       "      <td>EA83214</td>\n",
       "      <td>Unmatched</td>\n",
       "      <td>Block</td>\n",
       "      <td>NaN</td>\n",
       "      <td>NE 68TH ST BETWEEN 54TH AVE NE AND 55TH AVE NE</td>\n",
       "      <td>...</td>\n",
       "      <td>NaN</td>\n",
       "      <td>NaN</td>\n",
       "      <td>NaN</td>\n",
       "      <td>NaN</td>\n",
       "      <td>NaN</td>\n",
       "      <td></td>\n",
       "      <td>NaN</td>\n",
       "      <td>0</td>\n",
       "      <td>0</td>\n",
       "      <td>Y</td>\n",
       "    </tr>\n",
       "    <tr>\n",
       "      <th>4</th>\n",
       "      <td>-122.396981</td>\n",
       "      <td>47.668634</td>\n",
       "      <td>5</td>\n",
       "      <td>1106</td>\n",
       "      <td>1106</td>\n",
       "      <td>3615276</td>\n",
       "      <td>Unmatched</td>\n",
       "      <td>Block</td>\n",
       "      <td>NaN</td>\n",
       "      <td>NW MARKET ST BETWEEN 30TH AVE NW AND 32ND AVE NW</td>\n",
       "      <td>...</td>\n",
       "      <td>NaN</td>\n",
       "      <td>NaN</td>\n",
       "      <td>NaN</td>\n",
       "      <td>NaN</td>\n",
       "      <td>NaN</td>\n",
       "      <td></td>\n",
       "      <td>NaN</td>\n",
       "      <td>0</td>\n",
       "      <td>0</td>\n",
       "      <td>N</td>\n",
       "    </tr>\n",
       "  </tbody>\n",
       "</table>\n",
       "<p>5 rows × 40 columns</p>\n",
       "</div>"
      ],
      "text/plain": [
       "            X          Y  OBJECTID  INCKEY  COLDETKEY REPORTNO     STATUS  \\\n",
       "0 -122.302136  47.558499         1   51600      51600  2059498    Matched   \n",
       "1 -122.360753  47.703668         2    1293       1293  3501623    Matched   \n",
       "2 -122.318887  47.619922         3  331092     332592  3847739    Matched   \n",
       "3 -122.269598  47.677571         4  336037     337537  EA83214  Unmatched   \n",
       "4 -122.396981  47.668634         5    1106       1106  3615276  Unmatched   \n",
       "\n",
       "       ADDRTYPE   INTKEY                                          LOCATION  \\\n",
       "0         Block      NaN   S FERDINAND ST BETWEEN 24TH AVE S AND 24TH PL S   \n",
       "1  Intersection  37108.0                      3RD AVE NW AND NW 103RD N ST   \n",
       "2         Block      NaN       E JOHN ST BETWEEN 10TH AVE E AND 11TH AVE E   \n",
       "3         Block      NaN    NE 68TH ST BETWEEN 54TH AVE NE AND 55TH AVE NE   \n",
       "4         Block      NaN  NW MARKET ST BETWEEN 30TH AVE NW AND 32ND AVE NW   \n",
       "\n",
       "   ... ROADCOND                LIGHTCOND PEDROWNOTGRNT SDOTCOLNUM SPEEDING  \\\n",
       "0  ...      Wet                 Daylight           NaN  6148025.0      NaN   \n",
       "1  ...      Dry  Dark - Street Lights On           NaN        NaN      NaN   \n",
       "2  ...      Wet  Dark - Street Lights On           NaN        NaN      NaN   \n",
       "3  ...      NaN                      NaN           NaN        NaN      NaN   \n",
       "4  ...      NaN                      NaN           NaN        NaN      NaN   \n",
       "\n",
       "   ST_COLCODE              ST_COLDESC  SEGLANEKEY  CROSSWALKKEY  HITPARKEDCAR  \n",
       "0          32  One parked--one moving           0             0             N  \n",
       "1          50            Fixed object           0             0             N  \n",
       "2          10       Entering at angle           0             0             N  \n",
       "3                                 NaN           0             0             Y  \n",
       "4                                 NaN           0             0             N  \n",
       "\n",
       "[5 rows x 40 columns]"
      ]
     },
     "execution_count": 3,
     "metadata": {},
     "output_type": "execute_result"
    }
   ],
   "source": [
    "print(df.shape)\n",
    "df.head()"
   ]
  },
  {
   "cell_type": "code",
   "execution_count": 4,
   "metadata": {},
   "outputs": [
    {
     "name": "stdout",
     "output_type": "stream",
     "text": [
      "<class 'pandas.core.frame.DataFrame'>\n",
      "RangeIndex: 223304 entries, 0 to 223303\n",
      "Data columns (total 40 columns):\n",
      " #   Column           Non-Null Count   Dtype  \n",
      "---  ------           --------------   -----  \n",
      " 0   X                215802 non-null  float64\n",
      " 1   Y                215802 non-null  float64\n",
      " 2   OBJECTID         223304 non-null  int64  \n",
      " 3   INCKEY           223304 non-null  int64  \n",
      " 4   COLDETKEY        223304 non-null  int64  \n",
      " 5   REPORTNO         223304 non-null  object \n",
      " 6   STATUS           223304 non-null  object \n",
      " 7   ADDRTYPE         219570 non-null  object \n",
      " 8   INTKEY           72598 non-null   float64\n",
      " 9   LOCATION         218689 non-null  object \n",
      " 10  EXCEPTRSNCODE    102901 non-null  object \n",
      " 11  EXCEPTRSNDESC    11865 non-null   object \n",
      " 12  SEVERITYCODE     223303 non-null  object \n",
      " 13  SEVERITYDESC     223304 non-null  object \n",
      " 14  COLLISIONTYPE    196371 non-null  object \n",
      " 15  PERSONCOUNT      223304 non-null  int64  \n",
      " 16  PEDCOUNT         223304 non-null  int64  \n",
      " 17  PEDCYLCOUNT      223304 non-null  int64  \n",
      " 18  VEHCOUNT         223304 non-null  int64  \n",
      " 19  INJURIES         223304 non-null  int64  \n",
      " 20  SERIOUSINJURIES  223304 non-null  int64  \n",
      " 21  FATALITIES       223304 non-null  int64  \n",
      " 22  INCDATE          223304 non-null  object \n",
      " 23  INCDTTM          223304 non-null  object \n",
      " 24  JUNCTIONTYPE     211276 non-null  object \n",
      " 25  SDOT_COLCODE     223303 non-null  float64\n",
      " 26  SDOT_COLDESC     223303 non-null  object \n",
      " 27  INATTENTIONIND   30195 non-null   object \n",
      " 28  UNDERINFL        196391 non-null  object \n",
      " 29  WEATHER          196180 non-null  object \n",
      " 30  ROADCOND         196260 non-null  object \n",
      " 31  LIGHTCOND        196089 non-null  object \n",
      " 32  PEDROWNOTGRNT    5222 non-null    object \n",
      " 33  SDOTCOLNUM       127205 non-null  float64\n",
      " 34  SPEEDING         10004 non-null   object \n",
      " 35  ST_COLCODE       213891 non-null  object \n",
      " 36  ST_COLDESC       196371 non-null  object \n",
      " 37  SEGLANEKEY       223304 non-null  int64  \n",
      " 38  CROSSWALKKEY     223304 non-null  int64  \n",
      " 39  HITPARKEDCAR     223304 non-null  object \n",
      "dtypes: float64(5), int64(12), object(23)\n",
      "memory usage: 68.1+ MB\n"
     ]
    }
   ],
   "source": [
    "df.info()"
   ]
  },
  {
   "cell_type": "code",
   "execution_count": 5,
   "metadata": {},
   "outputs": [],
   "source": [
    "accdf = df[['X','Y','INCKEY','SEVERITYDESC','COLLISIONTYPE','INJURIES','SERIOUSINJURIES','FATALITIES',\n",
    "            'UNDERINFL','WEATHER','ROADCOND','LIGHTCOND']]            "
   ]
  },
  {
   "cell_type": "markdown",
   "metadata": {},
   "source": [
    "Dropped irrelevant columns and those with too many blanks"
   ]
  },
  {
   "cell_type": "code",
   "execution_count": 6,
   "metadata": {},
   "outputs": [
    {
     "name": "stdout",
     "output_type": "stream",
     "text": [
      "(223304, 12)\n",
      "<class 'pandas.core.frame.DataFrame'>\n",
      "RangeIndex: 223304 entries, 0 to 223303\n",
      "Data columns (total 12 columns):\n",
      " #   Column           Non-Null Count   Dtype  \n",
      "---  ------           --------------   -----  \n",
      " 0   X                215802 non-null  float64\n",
      " 1   Y                215802 non-null  float64\n",
      " 2   INCKEY           223304 non-null  int64  \n",
      " 3   SEVERITYDESC     223304 non-null  object \n",
      " 4   COLLISIONTYPE    196371 non-null  object \n",
      " 5   INJURIES         223304 non-null  int64  \n",
      " 6   SERIOUSINJURIES  223304 non-null  int64  \n",
      " 7   FATALITIES       223304 non-null  int64  \n",
      " 8   UNDERINFL        196391 non-null  object \n",
      " 9   WEATHER          196180 non-null  object \n",
      " 10  ROADCOND         196260 non-null  object \n",
      " 11  LIGHTCOND        196089 non-null  object \n",
      "dtypes: float64(2), int64(4), object(6)\n",
      "memory usage: 20.4+ MB\n",
      "None\n"
     ]
    },
    {
     "data": {
      "text/html": [
       "<div>\n",
       "<style scoped>\n",
       "    .dataframe tbody tr th:only-of-type {\n",
       "        vertical-align: middle;\n",
       "    }\n",
       "\n",
       "    .dataframe tbody tr th {\n",
       "        vertical-align: top;\n",
       "    }\n",
       "\n",
       "    .dataframe thead th {\n",
       "        text-align: right;\n",
       "    }\n",
       "</style>\n",
       "<table border=\"1\" class=\"dataframe\">\n",
       "  <thead>\n",
       "    <tr style=\"text-align: right;\">\n",
       "      <th></th>\n",
       "      <th>X</th>\n",
       "      <th>Y</th>\n",
       "      <th>INCKEY</th>\n",
       "      <th>SEVERITYDESC</th>\n",
       "      <th>COLLISIONTYPE</th>\n",
       "      <th>INJURIES</th>\n",
       "      <th>SERIOUSINJURIES</th>\n",
       "      <th>FATALITIES</th>\n",
       "      <th>UNDERINFL</th>\n",
       "      <th>WEATHER</th>\n",
       "      <th>ROADCOND</th>\n",
       "      <th>LIGHTCOND</th>\n",
       "    </tr>\n",
       "  </thead>\n",
       "  <tbody>\n",
       "    <tr>\n",
       "      <th>0</th>\n",
       "      <td>-122.302136</td>\n",
       "      <td>47.558499</td>\n",
       "      <td>51600</td>\n",
       "      <td>Property Damage Only Collision</td>\n",
       "      <td>Parked Car</td>\n",
       "      <td>0</td>\n",
       "      <td>0</td>\n",
       "      <td>0</td>\n",
       "      <td>0</td>\n",
       "      <td>Overcast</td>\n",
       "      <td>Wet</td>\n",
       "      <td>Daylight</td>\n",
       "    </tr>\n",
       "    <tr>\n",
       "      <th>1</th>\n",
       "      <td>-122.360753</td>\n",
       "      <td>47.703668</td>\n",
       "      <td>1293</td>\n",
       "      <td>Property Damage Only Collision</td>\n",
       "      <td>Other</td>\n",
       "      <td>0</td>\n",
       "      <td>0</td>\n",
       "      <td>0</td>\n",
       "      <td>N</td>\n",
       "      <td>Overcast</td>\n",
       "      <td>Dry</td>\n",
       "      <td>Dark - Street Lights On</td>\n",
       "    </tr>\n",
       "    <tr>\n",
       "      <th>2</th>\n",
       "      <td>-122.318887</td>\n",
       "      <td>47.619922</td>\n",
       "      <td>331092</td>\n",
       "      <td>Property Damage Only Collision</td>\n",
       "      <td>Angles</td>\n",
       "      <td>0</td>\n",
       "      <td>0</td>\n",
       "      <td>0</td>\n",
       "      <td>N</td>\n",
       "      <td>Overcast</td>\n",
       "      <td>Wet</td>\n",
       "      <td>Dark - Street Lights On</td>\n",
       "    </tr>\n",
       "    <tr>\n",
       "      <th>3</th>\n",
       "      <td>-122.269598</td>\n",
       "      <td>47.677571</td>\n",
       "      <td>336037</td>\n",
       "      <td>Unknown</td>\n",
       "      <td>NaN</td>\n",
       "      <td>0</td>\n",
       "      <td>0</td>\n",
       "      <td>0</td>\n",
       "      <td>NaN</td>\n",
       "      <td>NaN</td>\n",
       "      <td>NaN</td>\n",
       "      <td>NaN</td>\n",
       "    </tr>\n",
       "    <tr>\n",
       "      <th>4</th>\n",
       "      <td>-122.396981</td>\n",
       "      <td>47.668634</td>\n",
       "      <td>1106</td>\n",
       "      <td>Property Damage Only Collision</td>\n",
       "      <td>NaN</td>\n",
       "      <td>0</td>\n",
       "      <td>0</td>\n",
       "      <td>0</td>\n",
       "      <td>NaN</td>\n",
       "      <td>NaN</td>\n",
       "      <td>NaN</td>\n",
       "      <td>NaN</td>\n",
       "    </tr>\n",
       "  </tbody>\n",
       "</table>\n",
       "</div>"
      ],
      "text/plain": [
       "            X          Y  INCKEY                    SEVERITYDESC  \\\n",
       "0 -122.302136  47.558499   51600  Property Damage Only Collision   \n",
       "1 -122.360753  47.703668    1293  Property Damage Only Collision   \n",
       "2 -122.318887  47.619922  331092  Property Damage Only Collision   \n",
       "3 -122.269598  47.677571  336037                         Unknown   \n",
       "4 -122.396981  47.668634    1106  Property Damage Only Collision   \n",
       "\n",
       "  COLLISIONTYPE  INJURIES  SERIOUSINJURIES  FATALITIES UNDERINFL   WEATHER  \\\n",
       "0    Parked Car         0                0           0         0  Overcast   \n",
       "1         Other         0                0           0         N  Overcast   \n",
       "2        Angles         0                0           0         N  Overcast   \n",
       "3           NaN         0                0           0       NaN       NaN   \n",
       "4           NaN         0                0           0       NaN       NaN   \n",
       "\n",
       "  ROADCOND                LIGHTCOND  \n",
       "0      Wet                 Daylight  \n",
       "1      Dry  Dark - Street Lights On  \n",
       "2      Wet  Dark - Street Lights On  \n",
       "3      NaN                      NaN  \n",
       "4      NaN                      NaN  "
      ]
     },
     "execution_count": 6,
     "metadata": {},
     "output_type": "execute_result"
    }
   ],
   "source": [
    "print(accdf.shape)\n",
    "print(accdf.info())\n",
    "accdf.head()"
   ]
  },
  {
   "cell_type": "markdown",
   "metadata": {},
   "source": [
    "## Analyzing the values in each of the important columns\n"
   ]
  },
  {
   "cell_type": "code",
   "execution_count": 7,
   "metadata": {},
   "outputs": [
    {
     "name": "stdout",
     "output_type": "stream",
     "text": [
      "Property Damage Only Collision    138663\n",
      "Injury Collision                   59233\n",
      "Unknown                            21910\n",
      "Serious Injury Collision            3140\n",
      "Fatality Collision                   358\n",
      "Name: SEVERITYDESC, dtype: int64\n",
      "Parked Car    48728\n",
      "Angles        35837\n",
      "Rear Ended    34888\n",
      "Other         24770\n",
      "Sideswipe     18995\n",
      "Left Turn     14204\n",
      "Pedestrian     7717\n",
      "Cycles         5982\n",
      "Right Turn     3038\n",
      "Head On        2212\n",
      "Name: COLLISIONTYPE, dtype: int64\n",
      "0     160813\n",
      "1      47707\n",
      "2      10764\n",
      "3       2742\n",
      "4        825\n",
      "5        275\n",
      "6        100\n",
      "7         40\n",
      "8         12\n",
      "9         10\n",
      "10         6\n",
      "11         5\n",
      "13         2\n",
      "78         1\n",
      "15         1\n",
      "12         1\n",
      "Name: INJURIES, dtype: int64\n",
      "0     220160\n",
      "1       2975\n",
      "2        134\n",
      "3         23\n",
      "4          6\n",
      "5          5\n",
      "41         1\n",
      "Name: SERIOUSINJURIES, dtype: int64\n",
      "0    222946\n",
      "1       341\n",
      "2        13\n",
      "3         2\n",
      "5         1\n",
      "4         1\n",
      "Name: FATALITIES, dtype: int64\n",
      "N    105099\n",
      "0     81663\n",
      "Y      5399\n",
      "1      4230\n",
      "Name: UNDERINFL, dtype: int64\n",
      "Clear                       115531\n",
      "Raining                      34153\n",
      "Overcast                     28728\n",
      "Unknown                      15131\n",
      "Snowing                        919\n",
      "Other                          877\n",
      "Fog/Smog/Smoke                 632\n",
      "Sleet/Hail/Freezing Rain       116\n",
      "Blowing Sand/Dirt               56\n",
      "Severe Crosswind                26\n",
      "Partly Cloudy                   10\n",
      "Blowing Snow                     1\n",
      "Name: WEATHER, dtype: int64\n",
      "Dry               129527\n",
      "Wet                48930\n",
      "Unknown            15160\n",
      "Ice                 1233\n",
      "Snow/Slush          1014\n",
      "Other                136\n",
      "Standing Water       119\n",
      "Sand/Mud/Dirt         77\n",
      "Oil                   64\n",
      "Name: ROADCOND, dtype: int64\n"
     ]
    },
    {
     "data": {
      "text/plain": [
       "Daylight                    120260\n",
       "Dark - Street Lights On      50442\n",
       "Unknown                      13547\n",
       "Dusk                          6119\n",
       "Dawn                          2620\n",
       "Dark - No Street Lights       1583\n",
       "Dark - Street Lights Off      1240\n",
       "Other                          245\n",
       "Dark - Unknown Lighting         33\n",
       "Name: LIGHTCOND, dtype: int64"
      ]
     },
     "execution_count": 7,
     "metadata": {},
     "output_type": "execute_result"
    }
   ],
   "source": [
    "print(accdf['SEVERITYDESC'].value_counts())\n",
    "print(accdf['COLLISIONTYPE'].value_counts())\n",
    "print(accdf['INJURIES'].value_counts())\n",
    "print(accdf['SERIOUSINJURIES'].value_counts())\n",
    "print(accdf['FATALITIES'].value_counts())\n",
    "print(accdf['UNDERINFL'].value_counts())\n",
    "print(accdf['WEATHER'].value_counts())\n",
    "print(accdf['ROADCOND'].value_counts())\n",
    "accdf['LIGHTCOND'].value_counts()"
   ]
  },
  {
   "cell_type": "markdown",
   "metadata": {},
   "source": [
    "### Need to change most of these values to make them analysis friendly"
   ]
  },
  {
   "cell_type": "code",
   "execution_count": 8,
   "metadata": {},
   "outputs": [
    {
     "name": "stderr",
     "output_type": "stream",
     "text": [
      "<ipython-input-8-48a66682561b>:2: SettingWithCopyWarning: \n",
      "A value is trying to be set on a copy of a slice from a DataFrame.\n",
      "Try using .loc[row_indexer,col_indexer] = value instead\n",
      "\n",
      "See the caveats in the documentation: https://pandas.pydata.org/pandas-docs/stable/user_guide/indexing.html#returning-a-view-versus-a-copy\n",
      "  accdf['SEVERITYDESC'] = accdf['SEVERITYDESC'].str.replace(' Collision','')\n",
      "<ipython-input-8-48a66682561b>:4: SettingWithCopyWarning: \n",
      "A value is trying to be set on a copy of a slice from a DataFrame.\n",
      "Try using .loc[row_indexer,col_indexer] = value instead\n",
      "\n",
      "See the caveats in the documentation: https://pandas.pydata.org/pandas-docs/stable/user_guide/indexing.html#returning-a-view-versus-a-copy\n",
      "  accdf['UNDERINFL']=accdf['UNDERINFL'].replace(['N','Y','0','1'],[0,1,0,1])\n",
      "<ipython-input-8-48a66682561b>:6: SettingWithCopyWarning: \n",
      "A value is trying to be set on a copy of a slice from a DataFrame.\n",
      "Try using .loc[row_indexer,col_indexer] = value instead\n",
      "\n",
      "See the caveats in the documentation: https://pandas.pydata.org/pandas-docs/stable/user_guide/indexing.html#returning-a-view-versus-a-copy\n",
      "  accdf['ROADCOND'] = accdf['ROADCOND'].replace(['Snow/Slush','Standing Water','Sand/Mud/Dirt','Oil'],\n",
      "<ipython-input-8-48a66682561b>:9: SettingWithCopyWarning: \n",
      "A value is trying to be set on a copy of a slice from a DataFrame.\n",
      "Try using .loc[row_indexer,col_indexer] = value instead\n",
      "\n",
      "See the caveats in the documentation: https://pandas.pydata.org/pandas-docs/stable/user_guide/indexing.html#returning-a-view-versus-a-copy\n",
      "  accdf['LIGHTCOND'] = accdf['LIGHTCOND'].replace(['Dark - Street Lights On','Dusk','Dawn','Dark - No Street Lights','Dark - Street Lights Off','Dark - Unknown Lighting','Other'],\n",
      "<ipython-input-8-48a66682561b>:12: SettingWithCopyWarning: \n",
      "A value is trying to be set on a copy of a slice from a DataFrame.\n",
      "Try using .loc[row_indexer,col_indexer] = value instead\n",
      "\n",
      "See the caveats in the documentation: https://pandas.pydata.org/pandas-docs/stable/user_guide/indexing.html#returning-a-view-versus-a-copy\n",
      "  accdf['WEATHER'] = accdf['WEATHER'].replace(['Raining','Snowing','Severe Crosswind','Fog/Smog/Smoke','Sleet/Hail/Freezing Rain','Blowing Sand/Dirt','Blowing Snow','Other'],'Inclement')\n",
      "<ipython-input-8-48a66682561b>:13: SettingWithCopyWarning: \n",
      "A value is trying to be set on a copy of a slice from a DataFrame.\n",
      "Try using .loc[row_indexer,col_indexer] = value instead\n",
      "\n",
      "See the caveats in the documentation: https://pandas.pydata.org/pandas-docs/stable/user_guide/indexing.html#returning-a-view-versus-a-copy\n",
      "  accdf['WEATHER'] = accdf['WEATHER'].replace(['Partly Cloudy'],'Overcast')\n"
     ]
    }
   ],
   "source": [
    "#Seperating out serious injuries as 3 and fatalities as 4\n",
    "accdf['SEVERITYDESC'] = accdf['SEVERITYDESC'].str.replace(' Collision','')\n",
    "\n",
    "accdf['UNDERINFL']=accdf['UNDERINFL'].replace(['N','Y','0','1'],[0,1,0,1])\n",
    "\n",
    "accdf['ROADCOND'] = accdf['ROADCOND'].replace(['Snow/Slush','Standing Water','Sand/Mud/Dirt','Oil'],\n",
    "                                              ['Ice','Wet','Other','Other'])\n",
    "\n",
    "accdf['LIGHTCOND'] = accdf['LIGHTCOND'].replace(['Dark - Street Lights On','Dusk','Dawn','Dark - No Street Lights','Dark - Street Lights Off','Dark - Unknown Lighting','Other'],\n",
    "                                                ['Lowlight','Lowlight','Lowlight','Dark','Dark','Unknown','Unknown'])\n",
    "\n",
    "accdf['WEATHER'] = accdf['WEATHER'].replace(['Raining','Snowing','Severe Crosswind','Fog/Smog/Smoke','Sleet/Hail/Freezing Rain','Blowing Sand/Dirt','Blowing Snow','Other'],'Inclement')\n",
    "accdf['WEATHER'] = accdf['WEATHER'].replace(['Partly Cloudy'],'Overcast')"
   ]
  },
  {
   "cell_type": "code",
   "execution_count": 9,
   "metadata": {},
   "outputs": [
    {
     "name": "stdout",
     "output_type": "stream",
     "text": [
      "Property Damage Only    138663\n",
      "Injury                   59233\n",
      "Unknown                  21910\n",
      "Serious Injury            3140\n",
      "Fatality                   358\n",
      "Name: SEVERITYDESC, dtype: int64\n",
      "Parked Car    48728\n",
      "Angles        35837\n",
      "Rear Ended    34888\n",
      "Other         24770\n",
      "Sideswipe     18995\n",
      "Left Turn     14204\n",
      "Pedestrian     7717\n",
      "Cycles         5982\n",
      "Right Turn     3038\n",
      "Head On        2212\n",
      "Name: COLLISIONTYPE, dtype: int64\n",
      "0     160813\n",
      "1      47707\n",
      "2      10764\n",
      "3       2742\n",
      "4        825\n",
      "5        275\n",
      "6        100\n",
      "7         40\n",
      "8         12\n",
      "9         10\n",
      "10         6\n",
      "11         5\n",
      "13         2\n",
      "78         1\n",
      "15         1\n",
      "12         1\n",
      "Name: INJURIES, dtype: int64\n",
      "0     220160\n",
      "1       2975\n",
      "2        134\n",
      "3         23\n",
      "4          6\n",
      "5          5\n",
      "41         1\n",
      "Name: SERIOUSINJURIES, dtype: int64\n",
      "0    222946\n",
      "1       341\n",
      "2        13\n",
      "3         2\n",
      "5         1\n",
      "4         1\n",
      "Name: FATALITIES, dtype: int64\n",
      "0.0    186762\n",
      "1.0      9629\n",
      "Name: UNDERINFL, dtype: int64\n",
      "Clear        115531\n",
      "Inclement     36780\n",
      "Overcast      28738\n",
      "Unknown       15131\n",
      "Name: WEATHER, dtype: int64\n",
      "Dry        129527\n",
      "Wet         49049\n",
      "Unknown     15160\n",
      "Ice          2247\n",
      "Other         277\n",
      "Name: ROADCOND, dtype: int64\n"
     ]
    },
    {
     "data": {
      "text/plain": [
       "Daylight    120260\n",
       "Lowlight     59181\n",
       "Unknown      13825\n",
       "Dark          2823\n",
       "Name: LIGHTCOND, dtype: int64"
      ]
     },
     "execution_count": 9,
     "metadata": {},
     "output_type": "execute_result"
    }
   ],
   "source": [
    "print(accdf['SEVERITYDESC'].value_counts())\n",
    "print(accdf['COLLISIONTYPE'].value_counts())\n",
    "print(accdf['INJURIES'].value_counts())\n",
    "print(accdf['SERIOUSINJURIES'].value_counts())\n",
    "print(accdf['FATALITIES'].value_counts())\n",
    "print(accdf['UNDERINFL'].value_counts())\n",
    "print(accdf['WEATHER'].value_counts())\n",
    "print(accdf['ROADCOND'].value_counts())\n",
    "accdf['LIGHTCOND'].value_counts()"
   ]
  },
  {
   "cell_type": "markdown",
   "metadata": {},
   "source": [
    "## Filtering the dataframe"
   ]
  },
  {
   "cell_type": "code",
   "execution_count": 10,
   "metadata": {},
   "outputs": [
    {
     "name": "stdout",
     "output_type": "stream",
     "text": [
      "(172841, 12)\n"
     ]
    },
    {
     "data": {
      "text/html": [
       "<div>\n",
       "<style scoped>\n",
       "    .dataframe tbody tr th:only-of-type {\n",
       "        vertical-align: middle;\n",
       "    }\n",
       "\n",
       "    .dataframe tbody tr th {\n",
       "        vertical-align: top;\n",
       "    }\n",
       "\n",
       "    .dataframe thead th {\n",
       "        text-align: right;\n",
       "    }\n",
       "</style>\n",
       "<table border=\"1\" class=\"dataframe\">\n",
       "  <thead>\n",
       "    <tr style=\"text-align: right;\">\n",
       "      <th></th>\n",
       "      <th>X</th>\n",
       "      <th>Y</th>\n",
       "      <th>INCKEY</th>\n",
       "      <th>SEVERITYDESC</th>\n",
       "      <th>COLLISIONTYPE</th>\n",
       "      <th>INJURIES</th>\n",
       "      <th>SERIOUSINJURIES</th>\n",
       "      <th>FATALITIES</th>\n",
       "      <th>UNDERINFL</th>\n",
       "      <th>WEATHER</th>\n",
       "      <th>ROADCOND</th>\n",
       "      <th>LIGHTCOND</th>\n",
       "    </tr>\n",
       "  </thead>\n",
       "  <tbody>\n",
       "    <tr>\n",
       "      <th>0</th>\n",
       "      <td>-122.302136</td>\n",
       "      <td>47.558499</td>\n",
       "      <td>51600</td>\n",
       "      <td>Property Damage Only</td>\n",
       "      <td>Parked Car</td>\n",
       "      <td>0</td>\n",
       "      <td>0</td>\n",
       "      <td>0</td>\n",
       "      <td>0</td>\n",
       "      <td>Overcast</td>\n",
       "      <td>Wet</td>\n",
       "      <td>Daylight</td>\n",
       "    </tr>\n",
       "    <tr>\n",
       "      <th>1</th>\n",
       "      <td>-122.360753</td>\n",
       "      <td>47.703668</td>\n",
       "      <td>1293</td>\n",
       "      <td>Property Damage Only</td>\n",
       "      <td>Other</td>\n",
       "      <td>0</td>\n",
       "      <td>0</td>\n",
       "      <td>0</td>\n",
       "      <td>0</td>\n",
       "      <td>Overcast</td>\n",
       "      <td>Dry</td>\n",
       "      <td>Lowlight</td>\n",
       "    </tr>\n",
       "    <tr>\n",
       "      <th>2</th>\n",
       "      <td>-122.318887</td>\n",
       "      <td>47.619922</td>\n",
       "      <td>331092</td>\n",
       "      <td>Property Damage Only</td>\n",
       "      <td>Angles</td>\n",
       "      <td>0</td>\n",
       "      <td>0</td>\n",
       "      <td>0</td>\n",
       "      <td>0</td>\n",
       "      <td>Overcast</td>\n",
       "      <td>Wet</td>\n",
       "      <td>Lowlight</td>\n",
       "    </tr>\n",
       "    <tr>\n",
       "      <th>3</th>\n",
       "      <td>-122.333104</td>\n",
       "      <td>47.607979</td>\n",
       "      <td>1365</td>\n",
       "      <td>Injury</td>\n",
       "      <td>Angles</td>\n",
       "      <td>1</td>\n",
       "      <td>0</td>\n",
       "      <td>0</td>\n",
       "      <td>0</td>\n",
       "      <td>Clear</td>\n",
       "      <td>Dry</td>\n",
       "      <td>Lowlight</td>\n",
       "    </tr>\n",
       "    <tr>\n",
       "      <th>4</th>\n",
       "      <td>-122.338904</td>\n",
       "      <td>47.609285</td>\n",
       "      <td>1336</td>\n",
       "      <td>Property Damage Only</td>\n",
       "      <td>Left Turn</td>\n",
       "      <td>0</td>\n",
       "      <td>0</td>\n",
       "      <td>0</td>\n",
       "      <td>0</td>\n",
       "      <td>Clear</td>\n",
       "      <td>Dry</td>\n",
       "      <td>Daylight</td>\n",
       "    </tr>\n",
       "  </tbody>\n",
       "</table>\n",
       "</div>"
      ],
      "text/plain": [
       "            X          Y  INCKEY          SEVERITYDESC COLLISIONTYPE  \\\n",
       "0 -122.302136  47.558499   51600  Property Damage Only    Parked Car   \n",
       "1 -122.360753  47.703668    1293  Property Damage Only         Other   \n",
       "2 -122.318887  47.619922  331092  Property Damage Only        Angles   \n",
       "3 -122.333104  47.607979    1365                Injury        Angles   \n",
       "4 -122.338904  47.609285    1336  Property Damage Only     Left Turn   \n",
       "\n",
       "   INJURIES  SERIOUSINJURIES  FATALITIES  UNDERINFL   WEATHER ROADCOND  \\\n",
       "0         0                0           0          0  Overcast      Wet   \n",
       "1         0                0           0          0  Overcast      Dry   \n",
       "2         0                0           0          0  Overcast      Wet   \n",
       "3         1                0           0          0     Clear      Dry   \n",
       "4         0                0           0          0     Clear      Dry   \n",
       "\n",
       "  LIGHTCOND  \n",
       "0  Daylight  \n",
       "1  Lowlight  \n",
       "2  Lowlight  \n",
       "3  Lowlight  \n",
       "4  Daylight  "
      ]
     },
     "execution_count": 10,
     "metadata": {},
     "output_type": "execute_result"
    }
   ],
   "source": [
    "accdf = accdf[accdf['SEVERITYDESC'] != 'Unknown']\n",
    "accdf = accdf[accdf['WEATHER'] != 'Unknown']\n",
    "accdf = accdf[accdf['ROADCOND'] != 'Unknown']\n",
    "accdf = accdf[accdf['LIGHTCOND'] != 'Unknown']\n",
    "accdf.dropna(inplace=True)\n",
    "accdf = accdf.reset_index(drop=True)\n",
    "\n",
    "#Converting SEVERITYCODE to int64\n",
    "accdf['UNDERINFL'] = accdf['UNDERINFL'].astype('int64')\n",
    "print(accdf.shape)\n",
    "accdf.head()"
   ]
  },
  {
   "cell_type": "code",
   "execution_count": 11,
   "metadata": {},
   "outputs": [
    {
     "name": "stdout",
     "output_type": "stream",
     "text": [
      "<class 'pandas.core.frame.DataFrame'>\n",
      "RangeIndex: 172841 entries, 0 to 172840\n",
      "Data columns (total 12 columns):\n",
      " #   Column           Non-Null Count   Dtype  \n",
      "---  ------           --------------   -----  \n",
      " 0   X                172841 non-null  float64\n",
      " 1   Y                172841 non-null  float64\n",
      " 2   INCKEY           172841 non-null  int64  \n",
      " 3   SEVERITYDESC     172841 non-null  object \n",
      " 4   COLLISIONTYPE    172841 non-null  object \n",
      " 5   INJURIES         172841 non-null  int64  \n",
      " 6   SERIOUSINJURIES  172841 non-null  int64  \n",
      " 7   FATALITIES       172841 non-null  int64  \n",
      " 8   UNDERINFL        172841 non-null  int64  \n",
      " 9   WEATHER          172841 non-null  object \n",
      " 10  ROADCOND         172841 non-null  object \n",
      " 11  LIGHTCOND        172841 non-null  object \n",
      "dtypes: float64(2), int64(5), object(5)\n",
      "memory usage: 15.8+ MB\n"
     ]
    }
   ],
   "source": [
    "accdf.info()"
   ]
  },
  {
   "cell_type": "markdown",
   "metadata": {},
   "source": [
    "# Results <a name=\"results\"></a>\n",
    "\n",
    "The results seem very counter-intuitive. The only possible explanation is that the accident frequency and severity seem to be reduced when driving conditions are bad probably because fewer people venture out onto the roads. If this data was normalized for total number of vehicles on the road, we will get a better picture of how these factors affect accidents."
   ]
  },
  {
   "cell_type": "code",
   "execution_count": 12,
   "metadata": {},
   "outputs": [
    {
     "data": {
      "image/png": "[encoded data removed]",
      "text/plain": [
       "<Figure size 509.25x360 with 1 Axes>"
      ]
     },
     "metadata": {
      "needs_background": "light"
     },
     "output_type": "display_data"
    }
   ],
   "source": [
    "sns.catplot(x=\"WEATHER\", data=accdf,kind=\"count\", hue='SEVERITYDESC',height=5, aspect=1);  "
   ]
  },
  {
   "cell_type": "code",
   "execution_count": 14,
   "metadata": {},
   "outputs": [
    {
     "data": {
      "image/png": "[encoded data removed]",
      "text/plain": [
       "<Figure size 509.25x360 with 1 Axes>"
      ]
     },
     "metadata": {
      "needs_background": "light"
     },
     "output_type": "display_data"
    }
   ],
   "source": [
    "sns.catplot(x=\"LIGHTCOND\", data=accdf,kind=\"count\", hue='SEVERITYDESC',height=5, aspect=1);  \n"
   ]
  },
  {
   "cell_type": "code",
   "execution_count": 15,
   "metadata": {},
   "outputs": [
    {
     "data": {
      "image/png": "[encoded data removed]",
      "text/plain": [
       "<Figure size 509.25x360 with 1 Axes>"
      ]
     },
     "metadata": {
      "needs_background": "light"
     },
     "output_type": "display_data"
    }
   ],
   "source": [
    "sns.catplot(x=\"ROADCOND\", data=accdf,kind=\"count\", hue='SEVERITYDESC',height=5, aspect=1);              \n"
   ]
  },
  {
   "cell_type": "code",
   "execution_count": 16,
   "metadata": {},
   "outputs": [
    {
     "data": {
      "image/png": "[encoded data removed]",
      "text/plain": [
       "<Figure size 509.25x360 with 1 Axes>"
      ]
     },
     "metadata": {
      "needs_background": "light"
     },
     "output_type": "display_data"
    }
   ],
   "source": [
    "sns.catplot(x=\"UNDERINFL\", data=accdf,kind=\"count\", hue='SEVERITYDESC',height=5, aspect=1);   "
   ]
  },
  {
   "cell_type": "markdown",
   "metadata": {},
   "source": [
    "# Hypothesis Testing <a name=\"hypothesis\"></a>"
   ]
  },
  {
   "cell_type": "markdown",
   "metadata": {},
   "source": [
    "1.\tWeather: It is intuitive to think that more accidents occur during inclement weather conditions. \n",
    "\n",
    "Null Hypothesis: More accidents occur when weather conditions are bad.\n",
    "\n",
    "2.\tLight: It is intuitive to think that more accidents occur when the lighting is poor. \n",
    "\n",
    "Null Hypothesis: More accidents occur in bad lighting.\n",
    "\n",
    "3.\tRoad: It is intuitive to think that more accidents occur when the road conditions are unfavorable. \n",
    "\n",
    "Null Hypothesis: More accidents occur in bad road conditions.\n",
    "\n",
    "4.\tDUI: It is intuitive to think that more accidents occur when the driver is intoxicated. \n",
    "\n",
    "Null Hypothesis: More accidents happen when the driver is intoxicated.\n",
    "\n",
    "From the data below and the graphs it is obvious that we can reject all null hypotheses stated above as the frequency and severity of accidents is far greater when the driving conditions are conducive.\n"
   ]
  },
  {
   "cell_type": "markdown",
   "metadata": {},
   "source": [
    "# Conclusion <a name=\"conclusion\"></a>"
   ]
  },
  {
   "cell_type": "markdown",
   "metadata": {},
   "source": [
    "Quality of the data can be definitely improved by ensuring that the blank fields are filled and that they are filled consistently. The fields that have many missing or unknown values are:\n",
    "1.\tUnder the Influence\n",
    "2.\tInattention\n",
    "3.\tPedestrian right of way not granted\n",
    "4.\tSpeeding\n",
    "\n",
    "\n",
    "These attributes can help with more analyses.\n",
    "Also, adding more information about traffic or the total number of cars on the road will aid in data normalization that will give better insights into the effect of poor driving conditions on accidents. \n",
    "Further data analysis can be done by following these steps:\n",
    "1.\tCreate a metric: Accident Severity Indicator that encapsulates the total damage due to the accident. This metric will include the severity of the accident as defined by SDOT and the number of people involved. Once established, the data will be analyzed for factors that will affect this metric.\n",
    "2.\tFor the factors that are categorical variables, one hot encoding can be performed to see if there are any patterns.\n"
   ]
  },
  {
   "cell_type": "code",
   "execution_count": null,
   "metadata": {},
   "outputs": [],
   "source": []
  }
 ],
 "metadata": {
  "kernelspec": {
   "display_name": "Python 3",
   "language": "python",
   "name": "python3"
  },
  "language_info": {
   "codemirror_mode": {
    "name": "ipython",
    "version": 3
   },
   "file_extension": ".py",
   "mimetype": "text/x-python",
   "name": "python",
   "nbconvert_exporter": "python",
   "pygments_lexer": "ipython3",
   "version": "3.8.5"
  }
 },
 "nbformat": 4,
 "nbformat_minor": 4
}
